{
 "cells": [
  {
   "cell_type": "code",
   "execution_count": 1,
   "id": "0da925eb-722a-46b2-be98-9eb557805457",
   "metadata": {},
   "outputs": [],
   "source": [
    "#Learning and practicing Pandas\n",
    "\n",
    "import pandas as pd\n",
    "import numpy as np"
   ]
  },
  {
   "cell_type": "code",
   "execution_count": 26,
   "id": "9b7e7d80-38de-4505-aae0-29646a2a9265",
   "metadata": {},
   "outputs": [
    {
     "data": {
      "text/plain": [
       "0    56\n",
       "1    89\n",
       "2     4\n",
       "3     5\n",
       "4     4\n",
       "dtype: int64"
      ]
     },
     "execution_count": 26,
     "metadata": {},
     "output_type": "execute_result"
    }
   ],
   "source": [
    "list = [56,89,4,5,4]\n",
    "series = pd.Series(list) #Converting a list to series\n",
    "series"
   ]
  },
  {
   "cell_type": "code",
   "execution_count": 33,
   "id": "db645f6c-1da1-4ed3-bf46-dc775fe7fa49",
   "metadata": {},
   "outputs": [
    {
     "data": {
      "text/plain": [
       "A    56\n",
       "B    89\n",
       "C     4\n",
       "D     5\n",
       "E     4\n",
       "dtype: int64"
      ]
     },
     "execution_count": 33,
     "metadata": {},
     "output_type": "execute_result"
    }
   ],
   "source": [
    "index = ['A', 'B', 'C', 'D', 'E']\n",
    "series2 = pd.Series(list, index) #Giving custom indexes\n",
    "series2"
   ]
  },
  {
   "cell_type": "code",
   "execution_count": 35,
   "id": "0abb0615-fe6e-4dbb-9232-73d0dec98883",
   "metadata": {},
   "outputs": [
    {
     "data": {
      "text/plain": [
       "np.int64(89)"
      ]
     },
     "execution_count": 35,
     "metadata": {},
     "output_type": "execute_result"
    }
   ],
   "source": [
    "series2['B']"
   ]
  },
  {
   "cell_type": "code",
   "execution_count": 36,
   "id": "84e5c2ed-0410-46aa-ab66-ee43f6d5055d",
   "metadata": {},
   "outputs": [
    {
     "data": {
      "text/plain": [
       "tesla          12\n",
       "Bugatti         2\n",
       "Rolls Royce     1\n",
       "dtype: int64"
      ]
     },
     "execution_count": 36,
     "metadata": {},
     "output_type": "execute_result"
    }
   ],
   "source": [
    "cars = {    #Converting a dictionary into a series\n",
    "    \"tesla\": 12,\n",
    "    \"Bugatti\": 2,\n",
    "    \"Rolls Royce\": 1\n",
    "}\n",
    "series3 = pd.Series(cars)\n",
    "series3"
   ]
  },
  {
   "cell_type": "code",
   "execution_count": 37,
   "id": "ecf7bdc7-17e3-4273-b2ea-c76780e1ab90",
   "metadata": {},
   "outputs": [
    {
     "data": {
      "text/plain": [
       "np.int64(2)"
      ]
     },
     "execution_count": 37,
     "metadata": {},
     "output_type": "execute_result"
    }
   ],
   "source": [
    "series3[\"Bugatti\"]"
   ]
  },
  {
   "cell_type": "code",
   "execution_count": null,
   "id": "63b6be31-2e34-4810-8220-d3ee19cb46c2",
   "metadata": {},
   "outputs": [],
   "source": []
  }
 ],
 "metadata": {
  "kernelspec": {
   "display_name": "Python 3 (ipykernel)",
   "language": "python",
   "name": "python3"
  },
  "language_info": {
   "codemirror_mode": {
    "name": "ipython",
    "version": 3
   },
   "file_extension": ".py",
   "mimetype": "text/x-python",
   "name": "python",
   "nbconvert_exporter": "python",
   "pygments_lexer": "ipython3",
   "version": "3.12.6"
  }
 },
 "nbformat": 4,
 "nbformat_minor": 5
}
